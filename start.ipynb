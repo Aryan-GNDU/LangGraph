{
 "cells": [
  {
   "cell_type": "code",
   "execution_count": 1,
   "id": "c41551bd",
   "metadata": {},
   "outputs": [],
   "source": [
    "from typing import Annotated,TypedDict\n",
    "from langgraph.graph import StateGraph,START,END\n",
    "from langgraph.graph.message import add_messages \n",
    "\n",
    "from langchain_ollama import ChatOllama\n"
   ]
  },
  {
   "cell_type": "code",
   "execution_count": 2,
   "id": "0c61ad83",
   "metadata": {},
   "outputs": [],
   "source": [
    "llm = ChatOllama(model=\"llama2:7b\",base_url=\"http://localhost:11434\")"
   ]
  },
  {
   "cell_type": "code",
   "execution_count": 3,
   "id": "59db3145",
   "metadata": {},
   "outputs": [
    {
     "data": {
      "text/plain": [
       "AIMessage(content=\"Hello! It's nice to meet you. Is there something I can help you with or would you like to chat?\", additional_kwargs={}, response_metadata={'model': 'llama2:7b', 'created_at': '2025-05-29T04:37:26.8484386Z', 'message': {'role': 'assistant', 'content': ''}, 'done_reason': 'stop', 'done': True, 'total_duration': 58579977500, 'load_duration': 29797293000, 'prompt_eval_count': 21, 'prompt_eval_duration': 19960000000, 'eval_count': 26, 'eval_duration': 8797000000}, id='run--ec7fe801-ba6f-4fbe-ad91-118c0e308331-0', usage_metadata={'input_tokens': 21, 'output_tokens': 26, 'total_tokens': 47})"
      ]
     },
     "execution_count": 3,
     "metadata": {},
     "output_type": "execute_result"
    }
   ],
   "source": [
    "llm.invoke(\"Hi\")"
   ]
  },
  {
   "cell_type": "code",
   "execution_count": 5,
   "id": "7e4356bc",
   "metadata": {},
   "outputs": [],
   "source": [
    "class State(TypedDict):\n",
    "    messages:Annotated[list,add_messages]\n",
    "    \n",
    "def bot(state:State):\n",
    "    response = llm.invoke(state[\"messages\"])\n",
    "    return {\"messages\":[response]}\n",
    "\n",
    "#building graph\n",
    "\n",
    "graph_build = StateGraph(State)\n",
    "graph_build.add_node(\"chatbot\",bot)\n",
    "graph_build.add_edge(START,\"chatbot\")\n",
    "graph_build.add_edge(\"chatbot\",END)\n",
    "\n",
    "graph = graph_build.compile()\n",
    "\n"
   ]
  },
  {
   "cell_type": "code",
   "execution_count": 6,
   "id": "a0f483a3",
   "metadata": {},
   "outputs": [
    {
     "data": {
      "text/plain": [
       "<langgraph.graph.state.CompiledStateGraph at 0x28f33e6e5d0>"
      ]
     },
     "execution_count": 6,
     "metadata": {},
     "output_type": "execute_result"
    }
   ],
   "source": [
    "graph"
   ]
  },
  {
   "cell_type": "code",
   "execution_count": 7,
   "id": "4abe09e8",
   "metadata": {},
   "outputs": [
    {
     "data": {
      "image/png": "[encoded data removed]",
      "text/plain": [
       "<IPython.core.display.Image object>"
      ]
     },
     "metadata": {},
     "output_type": "display_data"
    }
   ],
   "source": [
    "from IPython.display import display,Image\n",
    "\n",
    "\n",
    "display(Image(graph.get_graph().draw_mermaid_png()))"
   ]
  },
  {
   "cell_type": "code",
   "execution_count": 13,
   "id": "805d39f2",
   "metadata": {},
   "outputs": [
    {
     "data": {
      "text/plain": [
       "{'messages': [HumanMessage(content='what is a LLM?', additional_kwargs={}, response_metadata={}, id='3ca633cd-c68d-4dad-9fdb-878c5f740582'),\n",
       "  AIMessage(content=\"\\nAn LLM, or Master of Laws, is a postgraduate degree that focuses on advanced legal studies. It is typically a one-year program that is designed for students who have already completed a law degree, such as a Juris Doctor (JD) or Bachelor of Laws (LLB).\\n\\nAn LLM program allows students to specialize in a particular area of law, such as corporate law, intellectual property law, international law, or tax law, among others. The program typically consists of coursework, research, and sometimes, clinical work. It is designed to provide students with advanced knowledge and skills in their chosen area of law, as well as the ability to analyze and solve complex legal problems.\\n\\nAn LLM degree can be useful for several reasons:\\n\\n1. Specialization: An LLM degree allows students to specialize in a particular area of law, which can be helpful for those who want to focus their career on a specific area of practice.\\n2. Career Advancement: An LLM degree can help lawyers advance their careers by providing them with advanced knowledge and skills that can make them more competitive in the job market.\\n3. Networking: LLM programs provide opportunities for students to network with other lawyers and legal professionals, which can be helpful for building a professional network.\\n4. Personal Interest: Some lawyers may choose to pursue an LLM degree simply because they are interested in a particular area of law and want to learn more about it.\\n5. Academic Pursuits: An LLM degree can also be a stepping stone for those who want to pursue a career in academia or research.\\n\\nIt's worth noting that an LLM degree is not a requirement for practicing law, and it is not a substitute for a JD or LLB degree. It is a supplemental degree that provides additional knowledge and skills in a particular area of law.\", additional_kwargs={}, response_metadata={'model': 'llama2:7b', 'created_at': '2025-05-29T06:18:09.2321403Z', 'message': {'role': 'assistant', 'content': ''}, 'done_reason': 'stop', 'done': True, 'total_duration': 109638870600, 'load_duration': 15197600, 'prompt_eval_count': 26, 'prompt_eval_duration': 463000000, 'eval_count': 415, 'eval_duration': 109157000000}, id='run--f9cc5893-b71b-49a6-9779-351486fe27e9-0', usage_metadata={'input_tokens': 26, 'output_tokens': 415, 'total_tokens': 441})]}"
      ]
     },
     "execution_count": 13,
     "metadata": {},
     "output_type": "execute_result"
    }
   ],
   "source": [
    "graph.invoke({\"messages\":[\"what is a LLM?\"]})"
   ]
  },
  {
   "cell_type": "code",
   "execution_count": null,
   "id": "ba31fee9",
   "metadata": {},
   "outputs": [],
   "source": []
  }
 ],
 "metadata": {
  "kernelspec": {
   "display_name": "langgraph",
   "language": "python",
   "name": "python3"
  },
  "language_info": {
   "codemirror_mode": {
    "name": "ipython",
    "version": 3
   },
   "file_extension": ".py",
   "mimetype": "text/x-python",
   "name": "python",
   "nbconvert_exporter": "python",
   "pygments_lexer": "ipython3",
   "version": "3.11.11"
  }
 },
 "nbformat": 4,
 "nbformat_minor": 5
}
