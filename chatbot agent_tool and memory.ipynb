{
 "cells": [
  {
   "cell_type": "code",
   "execution_count": 1,
   "id": "cb39f007",
   "metadata": {},
   "outputs": [],
   "source": [
    "from typing import Annotated,TypedDict\n",
    "from langgraph.graph import StateGraph,START,END\n",
    "from langgraph.graph.message import add_messages \n",
    "\n",
    "from langchain_ollama import ChatOllama\n"
   ]
  },
  {
   "cell_type": "code",
   "execution_count": 2,
   "id": "9216a7ea",
   "metadata": {},
   "outputs": [],
   "source": [
    "llm = ChatOllama(model=\"llama2:7b\",base_url=\"http://localhost:11434\")"
   ]
  },
  {
   "cell_type": "code",
   "execution_count": 3,
   "id": "0eedf266",
   "metadata": {},
   "outputs": [],
   "source": [
    "from langchain_community.tools.tavily_search.tool import TavilySearchResults"
   ]
  },
  {
   "cell_type": "code",
   "execution_count": 4,
   "id": "91ac0f68",
   "metadata": {},
   "outputs": [],
   "source": [
    "from langgraph.prebuilt import ToolNode,tools_condition\n",
    "from langchain_core.messages import HumanMessage\n",
    "from langchain_core.tools import tool\n",
    "\n",
    "\n",
    "\n"
   ]
  },
  {
   "cell_type": "code",
   "execution_count": 5,
   "id": "e755dc45",
   "metadata": {},
   "outputs": [],
   "source": [
    "@tool\n",
    "def internet_search(query : str):\n",
    "    \"\"\"\n",
    "    Search the web for real time information.\n",
    "    Args:\n",
    "    query: The search query \n",
    "    \"\"\"\n",
    "    search = TavilySearchResults(\n",
    "    max_results = 3,\n",
    "    search_depth = 'advanced',\n",
    "    include_answer =True,   \n",
    "    include_raw_content =True,\n",
    "    )\n",
    "\n",
    "    response = search.invoke(\"What is latest stock market news in India?\")\n",
    "    return response"
   ]
  },
  {
   "cell_type": "code",
   "execution_count": 6,
   "id": "27172126",
   "metadata": {},
   "outputs": [
    {
     "data": {
      "text/plain": [
       "StructuredTool(name='internet_search', description='Search the web for real time information.\\nArgs:\\nquery: The search query', args_schema=<class 'langchain_core.utils.pydantic.internet_search'>, func=<function internet_search at 0x00000236A61A6340>)"
      ]
     },
     "execution_count": 6,
     "metadata": {},
     "output_type": "execute_result"
    }
   ],
   "source": [
    "internet_search"
   ]
  },
  {
   "cell_type": "code",
   "execution_count": 7,
   "id": "cf3a04ce",
   "metadata": {},
   "outputs": [],
   "source": [
    "@tool \n",
    "def llm_search(query:str):\n",
    "    \"\"\"\n",
    "    Use LLM model for basic and general information \n",
    "    \"\"\"\n",
    "    message = HumanMessage(query)\n",
    "    response = llm.invoke(message)\n",
    "    return response\n"
   ]
  },
  {
   "cell_type": "code",
   "execution_count": 8,
   "id": "c5197e36",
   "metadata": {},
   "outputs": [
    {
     "data": {
      "text/plain": [
       "StructuredTool(name='llm_search', description='Use LLM model for basic and general information', args_schema=<class 'langchain_core.utils.pydantic.llm_search'>, func=<function llm_search at 0x00000236A61A6660>)"
      ]
     },
     "execution_count": 8,
     "metadata": {},
     "output_type": "execute_result"
    }
   ],
   "source": [
    "llm_search"
   ]
  },
  {
   "cell_type": "code",
   "execution_count": 9,
   "id": "8644ba9a",
   "metadata": {},
   "outputs": [
    {
     "data": {
      "text/plain": [
       "[StructuredTool(name='internet_search', description='Search the web for real time information.\\nArgs:\\nquery: The search query', args_schema=<class 'langchain_core.utils.pydantic.internet_search'>, func=<function internet_search at 0x00000236A61A6340>),\n",
       " StructuredTool(name='llm_search', description='Use LLM model for basic and general information', args_schema=<class 'langchain_core.utils.pydantic.llm_search'>, func=<function llm_search at 0x00000236A61A6660>)]"
      ]
     },
     "execution_count": 9,
     "metadata": {},
     "output_type": "execute_result"
    }
   ],
   "source": [
    "tools = [internet_search,llm_search]\n",
    "tools"
   ]
  },
  {
   "cell_type": "code",
   "execution_count": 10,
   "id": "6b168dc9",
   "metadata": {},
   "outputs": [],
   "source": [
    "llm_with_tool = llm.bind_tools(tools)"
   ]
  },
  {
   "cell_type": "code",
   "execution_count": 11,
   "id": "25cc80ad",
   "metadata": {},
   "outputs": [],
   "source": [
    "class State(TypedDict):\n",
    "    messages:Annotated[list,add_messages]\n",
    "\n",
    "def chatbot(state:State):\n",
    "    response = llm_with_tool.invoke(state[\"messages\"])\n",
    "    return {\"messages\":[response]}\n",
    "\n"
   ]
  },
  {
   "cell_type": "code",
   "execution_count": 12,
   "id": "277725df",
   "metadata": {},
   "outputs": [
    {
     "data": {
      "image/png": "[encoded data removed]",
      "text/plain": [
       "<IPython.core.display.Image object>"
      ]
     },
     "metadata": {},
     "output_type": "display_data"
    }
   ],
   "source": [
    "from IPython.display import display,Image\n",
    "\n",
    "\n",
    "graph_build = StateGraph(State)\n",
    "graph_build.add_node(\"chatbot\",chatbot)\n",
    "tool_node = ToolNode(tools=tools)\n",
    "graph_build.add_node(\"tools\",tool_node)\n",
    "\n",
    "graph_build.add_conditional_edges(\"chatbot\",tools_condition)\n",
    "\n",
    "graph_build.add_edge(\"tools\",\"chatbot\")\n",
    "\n",
    "graph_build.set_entry_point(\"chatbot\")\n",
    "\n",
    "graph = graph_build.compile()\n",
    "\n",
    "display(Image(graph.get_graph().draw_mermaid_png()))"
   ]
  },
  {
   "cell_type": "code",
   "execution_count": null,
   "id": "317f5f02",
   "metadata": {},
   "outputs": [],
   "source": []
  }
 ],
 "metadata": {
  "kernelspec": {
   "display_name": "langgraph",
   "language": "python",
   "name": "python3"
  },
  "language_info": {
   "codemirror_mode": {
    "name": "ipython",
    "version": 3
   },
   "file_extension": ".py",
   "mimetype": "text/x-python",
   "name": "python",
   "nbconvert_exporter": "python",
   "pygments_lexer": "ipython3",
   "version": "3.11.11"
  }
 },
 "nbformat": 4,
 "nbformat_minor": 5
}
